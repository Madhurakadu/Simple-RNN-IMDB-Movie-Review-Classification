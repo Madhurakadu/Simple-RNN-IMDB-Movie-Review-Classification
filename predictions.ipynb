{
 "cells": [
  {
   "cell_type": "code",
   "execution_count": 27,
   "id": "a5fd2656",
   "metadata": {},
   "outputs": [],
   "source": [
    "# step 1: import libraries and load the model\n",
    "import numpy as np\n",
    "import tensorflow as tf\n",
    "from tensorflow.keras.datasets import imdb\n",
    "from tensorflow.keras.preprocessing import sequence\n",
    "from tensorflow.keras.models import load_model\n",
    "import streamlit as st"
   ]
  },
  {
   "cell_type": "code",
   "execution_count": 21,
   "id": "c3838a87",
   "metadata": {},
   "outputs": [],
   "source": [
    "# load the IMDB daatset word index\n",
    "word_index=imdb.get_word_index()\n",
    "\n",
    "reverse_word_index={value:key for key, value in word_index.items()}\n"
   ]
  },
  {
   "cell_type": "code",
   "execution_count": 22,
   "id": "e658ecef",
   "metadata": {},
   "outputs": [
    {
     "name": "stderr",
     "output_type": "stream",
     "text": [
      "WARNING:absl:Compiled the loaded model, but the compiled metrics have yet to be built. `model.compile_metrics` will be empty until you train or evaluate the model.\n"
     ]
    },
    {
     "data": {
      "text/html": [
       "<pre style=\"white-space:pre;overflow-x:auto;line-height:normal;font-family:Menlo,'DejaVu Sans Mono',consolas,'Courier New',monospace\"><span style=\"font-weight: bold\">Model: \"sequential_12\"</span>\n",
       "</pre>\n"
      ],
      "text/plain": [
       "\u001b[1mModel: \"sequential_12\"\u001b[0m\n"
      ]
     },
     "metadata": {},
     "output_type": "display_data"
    },
    {
     "data": {
      "text/html": [
       "<pre style=\"white-space:pre;overflow-x:auto;line-height:normal;font-family:Menlo,'DejaVu Sans Mono',consolas,'Courier New',monospace\">┏━━━━━━━━━━━━━━━━━━━━━━━━━━━━━━━━━┳━━━━━━━━━━━━━━━━━━━━━━━━┳━━━━━━━━━━━━━━━┓\n",
       "┃<span style=\"font-weight: bold\"> Layer (type)                    </span>┃<span style=\"font-weight: bold\"> Output Shape           </span>┃<span style=\"font-weight: bold\">       Param # </span>┃\n",
       "┡━━━━━━━━━━━━━━━━━━━━━━━━━━━━━━━━━╇━━━━━━━━━━━━━━━━━━━━━━━━╇━━━━━━━━━━━━━━━┩\n",
       "│ embedding_11 (<span style=\"color: #0087ff; text-decoration-color: #0087ff\">Embedding</span>)        │ (<span style=\"color: #00d7ff; text-decoration-color: #00d7ff\">None</span>, <span style=\"color: #00af00; text-decoration-color: #00af00\">500</span>, <span style=\"color: #00af00; text-decoration-color: #00af00\">128</span>)       │     <span style=\"color: #00af00; text-decoration-color: #00af00\">1,280,000</span> │\n",
       "├─────────────────────────────────┼────────────────────────┼───────────────┤\n",
       "│ simple_rnn_9 (<span style=\"color: #0087ff; text-decoration-color: #0087ff\">SimpleRNN</span>)        │ (<span style=\"color: #00d7ff; text-decoration-color: #00d7ff\">None</span>, <span style=\"color: #00af00; text-decoration-color: #00af00\">128</span>)            │        <span style=\"color: #00af00; text-decoration-color: #00af00\">32,896</span> │\n",
       "├─────────────────────────────────┼────────────────────────┼───────────────┤\n",
       "│ dense_9 (<span style=\"color: #0087ff; text-decoration-color: #0087ff\">Dense</span>)                 │ (<span style=\"color: #00d7ff; text-decoration-color: #00d7ff\">None</span>, <span style=\"color: #00af00; text-decoration-color: #00af00\">1</span>)              │           <span style=\"color: #00af00; text-decoration-color: #00af00\">129</span> │\n",
       "└─────────────────────────────────┴────────────────────────┴───────────────┘\n",
       "</pre>\n"
      ],
      "text/plain": [
       "┏━━━━━━━━━━━━━━━━━━━━━━━━━━━━━━━━━┳━━━━━━━━━━━━━━━━━━━━━━━━┳━━━━━━━━━━━━━━━┓\n",
       "┃\u001b[1m \u001b[0m\u001b[1mLayer (type)                   \u001b[0m\u001b[1m \u001b[0m┃\u001b[1m \u001b[0m\u001b[1mOutput Shape          \u001b[0m\u001b[1m \u001b[0m┃\u001b[1m \u001b[0m\u001b[1m      Param #\u001b[0m\u001b[1m \u001b[0m┃\n",
       "┡━━━━━━━━━━━━━━━━━━━━━━━━━━━━━━━━━╇━━━━━━━━━━━━━━━━━━━━━━━━╇━━━━━━━━━━━━━━━┩\n",
       "│ embedding_11 (\u001b[38;5;33mEmbedding\u001b[0m)        │ (\u001b[38;5;45mNone\u001b[0m, \u001b[38;5;34m500\u001b[0m, \u001b[38;5;34m128\u001b[0m)       │     \u001b[38;5;34m1,280,000\u001b[0m │\n",
       "├─────────────────────────────────┼────────────────────────┼───────────────┤\n",
       "│ simple_rnn_9 (\u001b[38;5;33mSimpleRNN\u001b[0m)        │ (\u001b[38;5;45mNone\u001b[0m, \u001b[38;5;34m128\u001b[0m)            │        \u001b[38;5;34m32,896\u001b[0m │\n",
       "├─────────────────────────────────┼────────────────────────┼───────────────┤\n",
       "│ dense_9 (\u001b[38;5;33mDense\u001b[0m)                 │ (\u001b[38;5;45mNone\u001b[0m, \u001b[38;5;34m1\u001b[0m)              │           \u001b[38;5;34m129\u001b[0m │\n",
       "└─────────────────────────────────┴────────────────────────┴───────────────┘\n"
      ]
     },
     "metadata": {},
     "output_type": "display_data"
    },
    {
     "data": {
      "text/html": [
       "<pre style=\"white-space:pre;overflow-x:auto;line-height:normal;font-family:Menlo,'DejaVu Sans Mono',consolas,'Courier New',monospace\"><span style=\"font-weight: bold\"> Total params: </span><span style=\"color: #00af00; text-decoration-color: #00af00\">1,313,027</span> (5.01 MB)\n",
       "</pre>\n"
      ],
      "text/plain": [
       "\u001b[1m Total params: \u001b[0m\u001b[38;5;34m1,313,027\u001b[0m (5.01 MB)\n"
      ]
     },
     "metadata": {},
     "output_type": "display_data"
    },
    {
     "data": {
      "text/html": [
       "<pre style=\"white-space:pre;overflow-x:auto;line-height:normal;font-family:Menlo,'DejaVu Sans Mono',consolas,'Courier New',monospace\"><span style=\"font-weight: bold\"> Trainable params: </span><span style=\"color: #00af00; text-decoration-color: #00af00\">1,313,025</span> (5.01 MB)\n",
       "</pre>\n"
      ],
      "text/plain": [
       "\u001b[1m Trainable params: \u001b[0m\u001b[38;5;34m1,313,025\u001b[0m (5.01 MB)\n"
      ]
     },
     "metadata": {},
     "output_type": "display_data"
    },
    {
     "data": {
      "text/html": [
       "<pre style=\"white-space:pre;overflow-x:auto;line-height:normal;font-family:Menlo,'DejaVu Sans Mono',consolas,'Courier New',monospace\"><span style=\"font-weight: bold\"> Non-trainable params: </span><span style=\"color: #00af00; text-decoration-color: #00af00\">0</span> (0.00 B)\n",
       "</pre>\n"
      ],
      "text/plain": [
       "\u001b[1m Non-trainable params: \u001b[0m\u001b[38;5;34m0\u001b[0m (0.00 B)\n"
      ]
     },
     "metadata": {},
     "output_type": "display_data"
    },
    {
     "data": {
      "text/html": [
       "<pre style=\"white-space:pre;overflow-x:auto;line-height:normal;font-family:Menlo,'DejaVu Sans Mono',consolas,'Courier New',monospace\"><span style=\"font-weight: bold\"> Optimizer params: </span><span style=\"color: #00af00; text-decoration-color: #00af00\">2</span> (12.00 B)\n",
       "</pre>\n"
      ],
      "text/plain": [
       "\u001b[1m Optimizer params: \u001b[0m\u001b[38;5;34m2\u001b[0m (12.00 B)\n"
      ]
     },
     "metadata": {},
     "output_type": "display_data"
    }
   ],
   "source": [
    "# load the pre-trained model with relu activation\n",
    "model=load_model('simple_rnn_imdb.h5')\n",
    "model.summary()"
   ]
  },
  {
   "cell_type": "code",
   "execution_count": 23,
   "id": "32b5af79",
   "metadata": {},
   "outputs": [
    {
     "data": {
      "text/plain": [
       "[array([[ 0.23811343, -0.01862658, -0.18612677, ..., -0.16240059,\n",
       "         -0.21408609,  0.05189225],\n",
       "        [ 0.03982233, -0.04034214, -0.0064928 , ...,  0.01760124,\n",
       "          0.00702489,  0.04677011],\n",
       "        [ 0.16919988,  0.01521085, -0.02977075, ..., -0.04513939,\n",
       "          0.01333286,  0.00729237],\n",
       "        ...,\n",
       "        [-0.03415633, -0.00125942,  0.03804641, ..., -0.02091625,\n",
       "         -0.01567441, -0.02813369],\n",
       "        [-0.06259349,  0.0097524 , -0.04487348, ...,  0.04147822,\n",
       "         -0.05797629,  0.02133506],\n",
       "        [-0.0390644 , -0.1020793 ,  0.02194711, ...,  0.02542017,\n",
       "          0.08763503,  0.0016238 ]], dtype=float32),\n",
       " array([[-0.05094615,  0.0811259 ,  0.00316639, ..., -0.0722314 ,\n",
       "         -0.1802224 ,  0.06312662],\n",
       "        [-0.07404161,  0.07070605,  0.08802253, ..., -0.03336943,\n",
       "          0.05038134, -0.02053562],\n",
       "        [-0.16785869,  0.11095703, -0.05729383, ...,  0.07513875,\n",
       "          0.11208706,  0.06538711],\n",
       "        ...,\n",
       "        [ 0.21477617,  0.12903675, -0.07050759, ..., -0.00577719,\n",
       "         -0.0831703 ,  0.20683771],\n",
       "        [-0.10833528, -0.15665004,  0.07061058, ..., -0.00184119,\n",
       "         -0.05758556, -0.10857195],\n",
       "        [-0.12646672, -0.09535468, -0.02033614, ...,  0.14163938,\n",
       "         -0.14223658, -0.0975646 ]], dtype=float32),\n",
       " array([[ 0.09410697, -0.0221323 ,  0.0260979 , ..., -0.08199675,\n",
       "          0.08035702, -0.12866676],\n",
       "        [ 0.02347221,  0.07161456, -0.01872367, ..., -0.12114402,\n",
       "          0.02470694,  0.08700059],\n",
       "        [-0.21492033, -0.2015872 , -0.02570447, ..., -0.12576087,\n",
       "         -0.12240303, -0.03849761],\n",
       "        ...,\n",
       "        [-0.0979701 ,  0.09895442,  0.00546129, ..., -0.03140169,\n",
       "         -0.09424534,  0.02705724],\n",
       "        [-0.07725186,  0.02650098,  0.0874856 , ...,  0.1222109 ,\n",
       "         -0.07396613,  0.09147085],\n",
       "        [ 0.05488431,  0.1851596 , -0.14550367, ...,  0.00959119,\n",
       "         -0.09663254, -0.08878864]], dtype=float32),\n",
       " array([ 3.3936180e-02,  2.4091931e-02, -4.3052375e-02,  1.0479651e-03,\n",
       "         1.5175199e-02,  1.3215088e-02, -3.3892170e-02, -4.8909340e-02,\n",
       "         8.5280463e-03, -2.1149769e-02, -3.5355397e-02, -3.8607750e-02,\n",
       "        -9.3993144e-03, -3.0922081e-02, -3.7637983e-02, -4.1754521e-02,\n",
       "         2.3235854e-02, -4.9001396e-02,  2.5619129e-02, -1.2973927e-02,\n",
       "        -3.8288362e-02, -4.0926993e-02, -4.9519006e-02,  2.1166863e-02,\n",
       "        -3.4490045e-02, -1.7514724e-02, -1.1563257e-03, -7.7601377e-04,\n",
       "         1.3318331e-02,  3.2254325e-03,  1.2172242e-02,  5.9918184e-03,\n",
       "        -2.6643649e-02,  1.9602753e-02, -5.5803277e-02, -3.4428798e-02,\n",
       "         1.3377478e-02, -5.1656447e-02,  3.5178911e-02, -1.9175118e-02,\n",
       "         1.4556954e-02, -2.9085835e-02,  5.8460973e-02, -1.6194630e-02,\n",
       "         2.4330190e-03, -3.5918076e-02, -2.3211291e-02, -4.6125501e-03,\n",
       "         8.9725640e-05, -6.1680518e-02, -4.5381770e-02, -3.2009066e-03,\n",
       "         1.2972450e-02, -1.1954116e-02,  1.0228591e-02, -3.0427352e-02,\n",
       "         3.3278049e-03, -7.5763837e-03, -3.0444596e-02, -1.3183897e-02,\n",
       "        -4.7957666e-02, -2.4298858e-03, -5.2052375e-02,  5.6341942e-03,\n",
       "        -2.9509611e-02, -1.1110420e-02,  3.6567774e-02, -2.1000795e-02,\n",
       "        -1.7673779e-02,  2.4832014e-02, -5.7789027e-03, -2.8074346e-02,\n",
       "         1.4452386e-02, -5.7175144e-04, -4.3523610e-02, -3.7129976e-02,\n",
       "         3.2082226e-02,  3.6294594e-02,  4.3315783e-02, -3.0169634e-02,\n",
       "         1.3135646e-02, -3.3334669e-02, -6.0008449e-04, -2.9112393e-02,\n",
       "        -2.5457183e-02,  1.0186974e-03,  1.4178738e-02, -2.6634283e-02,\n",
       "        -2.9118111e-02,  8.4168203e-03, -2.5271865e-02, -2.2920595e-02,\n",
       "        -1.8373368e-02,  2.1814240e-02, -4.2022739e-02, -5.6330971e-03,\n",
       "        -4.1388437e-02, -4.7887202e-02, -2.0435967e-03, -5.3978160e-02,\n",
       "        -3.1671733e-02, -1.9895216e-02,  2.0289389e-02, -4.5550451e-02,\n",
       "        -8.1002507e-03,  2.4030486e-02,  5.9363786e-03, -1.7222375e-02,\n",
       "        -6.6586062e-02, -1.6121769e-02, -3.3850260e-02,  2.9560544e-02,\n",
       "        -5.1328428e-03, -2.6665668e-03,  3.4528356e-02,  3.7072577e-02,\n",
       "        -3.9403569e-02, -1.0217523e-02, -1.3566930e-02, -3.1509861e-02,\n",
       "        -4.2879220e-02,  8.7182280e-03, -2.9602550e-02, -1.9137677e-02,\n",
       "         2.5052451e-02, -3.8392991e-02, -4.4364374e-02, -5.1664170e-02],\n",
       "       dtype=float32),\n",
       " array([[ 1.48955107e-01],\n",
       "        [ 2.11968064e-01],\n",
       "        [ 1.47352561e-01],\n",
       "        [ 4.11626965e-01],\n",
       "        [-1.09322377e-01],\n",
       "        [ 4.58277836e-02],\n",
       "        [ 2.17654859e-03],\n",
       "        [-9.77050066e-02],\n",
       "        [-7.53808126e-05],\n",
       "        [ 1.92066059e-01],\n",
       "        [ 1.27930179e-01],\n",
       "        [ 1.28417999e-01],\n",
       "        [ 1.34555340e-01],\n",
       "        [ 1.46159232e-01],\n",
       "        [ 2.23801777e-01],\n",
       "        [-4.44260240e-02],\n",
       "        [ 1.30790442e-01],\n",
       "        [ 1.77650869e-01],\n",
       "        [ 3.65689248e-02],\n",
       "        [ 2.16854960e-01],\n",
       "        [-2.00462639e-01],\n",
       "        [ 1.75046932e-03],\n",
       "        [-1.99753106e-01],\n",
       "        [ 1.66057199e-01],\n",
       "        [ 2.16970608e-01],\n",
       "        [ 2.12801784e-01],\n",
       "        [ 2.15584576e-01],\n",
       "        [-2.79733688e-02],\n",
       "        [-8.60842317e-02],\n",
       "        [ 1.70184731e-01],\n",
       "        [-5.01087680e-03],\n",
       "        [-2.18491461e-02],\n",
       "        [ 1.50051087e-01],\n",
       "        [ 2.00124621e-01],\n",
       "        [-1.86372325e-01],\n",
       "        [ 1.22044846e-01],\n",
       "        [ 1.39161333e-01],\n",
       "        [ 1.89132333e-01],\n",
       "        [ 3.40935588e-01],\n",
       "        [ 1.47797957e-01],\n",
       "        [ 1.55477881e-01],\n",
       "        [ 1.98128223e-01],\n",
       "        [-2.46004865e-01],\n",
       "        [ 1.81381702e-02],\n",
       "        [ 8.51546228e-02],\n",
       "        [ 2.45300174e-01],\n",
       "        [ 2.31418982e-01],\n",
       "        [-6.96028769e-02],\n",
       "        [ 7.50058442e-02],\n",
       "        [-8.31672996e-02],\n",
       "        [ 2.23919734e-01],\n",
       "        [ 8.94232616e-02],\n",
       "        [-3.18936110e-01],\n",
       "        [ 9.27455202e-02],\n",
       "        [ 6.71971023e-01],\n",
       "        [-2.00432703e-01],\n",
       "        [-3.99922341e-01],\n",
       "        [-4.89557683e-01],\n",
       "        [ 1.11470446e-01],\n",
       "        [ 1.92186356e-01],\n",
       "        [ 1.18142471e-01],\n",
       "        [ 1.41771793e-01],\n",
       "        [ 1.00544877e-01],\n",
       "        [-2.82802045e-01],\n",
       "        [ 2.21141964e-01],\n",
       "        [ 8.22544247e-02],\n",
       "        [ 7.71463364e-02],\n",
       "        [-1.78606331e-01],\n",
       "        [ 2.16865093e-01],\n",
       "        [-1.30663633e-01],\n",
       "        [ 2.28354380e-01],\n",
       "        [ 7.15619177e-02],\n",
       "        [ 6.32493138e-01],\n",
       "        [ 1.93872631e-01],\n",
       "        [ 3.07976790e-02],\n",
       "        [-2.11824179e-01],\n",
       "        [ 5.16681433e-01],\n",
       "        [-3.69134136e-02],\n",
       "        [ 1.54169919e-02],\n",
       "        [ 4.62982841e-02],\n",
       "        [ 1.52697533e-01],\n",
       "        [-1.63473636e-01],\n",
       "        [-7.43931830e-02],\n",
       "        [ 2.87836194e-01],\n",
       "        [ 2.27057904e-01],\n",
       "        [ 2.94929352e-02],\n",
       "        [-7.50938654e-02],\n",
       "        [ 1.06523991e-01],\n",
       "        [ 4.19729985e-02],\n",
       "        [ 1.81626350e-01],\n",
       "        [ 8.05754587e-02],\n",
       "        [ 1.14908278e-01],\n",
       "        [ 3.22493821e-01],\n",
       "        [-2.21007645e-01],\n",
       "        [-5.77286957e-03],\n",
       "        [-1.52564319e-02],\n",
       "        [-1.08000092e-01],\n",
       "        [ 9.41210687e-02],\n",
       "        [ 1.66440547e-01],\n",
       "        [-1.76683888e-01],\n",
       "        [-2.13812105e-02],\n",
       "        [-4.40784432e-02],\n",
       "        [ 2.66163141e-01],\n",
       "        [-1.74899191e-01],\n",
       "        [ 3.19234245e-02],\n",
       "        [ 6.71098903e-02],\n",
       "        [ 5.40400669e-02],\n",
       "        [-3.94485027e-01],\n",
       "        [ 1.52284563e-01],\n",
       "        [ 5.00190079e-01],\n",
       "        [-4.46140110e-01],\n",
       "        [ 8.05817902e-01],\n",
       "        [ 2.80601770e-01],\n",
       "        [ 2.31222883e-01],\n",
       "        [ 8.70219469e-02],\n",
       "        [ 8.08999464e-02],\n",
       "        [ 2.27199256e-01],\n",
       "        [-5.30954786e-02],\n",
       "        [-4.49893564e-01],\n",
       "        [ 8.33896324e-02],\n",
       "        [ 1.82323918e-01],\n",
       "        [ 7.17400014e-02],\n",
       "        [ 3.21200252e-01],\n",
       "        [-6.00952022e-02],\n",
       "        [-1.04365153e-02],\n",
       "        [ 1.37865275e-01],\n",
       "        [-2.05238163e-01],\n",
       "        [ 1.75556391e-01]], dtype=float32),\n",
       " array([0.8704196], dtype=float32)]"
      ]
     },
     "execution_count": 23,
     "metadata": {},
     "output_type": "execute_result"
    }
   ],
   "source": [
    "model.get_weights()"
   ]
  },
  {
   "cell_type": "code",
   "execution_count": 24,
   "id": "9eebaceb",
   "metadata": {},
   "outputs": [],
   "source": [
    "# step 2: helper function\n",
    "# funstion to decode reviews\n",
    "def decode_review(encoded_review):\n",
    "    return' '.join([reverse_word_index.get(i-3,'?')for i in encoded_review])\n",
    "\n",
    "# function to preprocess user input\n",
    "def preprocess_text(text):\n",
    "    words=text.lower().split()\n",
    "    encoded_review=[word_index.get(word,2)+ 3 for word in words]\n",
    "    padded_review=sequence.pad_sequences([encoded_review],maxlen=500)\n",
    "    return padded_review\n",
    "\n"
   ]
  },
  {
   "cell_type": "code",
   "execution_count": 25,
   "id": "c859eccd",
   "metadata": {},
   "outputs": [],
   "source": [
    "## prediction function\n",
    "def predict_sentiment(review):\n",
    "    preprocess_input=preprocess_text(review)\n",
    "\n",
    "    prediction=model.predict(preprocess_input)\n",
    "\n",
    "    sentiment='Positive' if prediction[0][0]>0.5 else 'Negative'\n",
    "\n",
    "    return sentiment,prediction[0][0]"
   ]
  },
  {
   "cell_type": "code",
   "execution_count": null,
   "id": "0b065c10",
   "metadata": {},
   "outputs": [
    {
     "name": "stdout",
     "output_type": "stream",
     "text": [
      "\u001b[1m1/1\u001b[0m \u001b[32m━━━━━━━━━━━━━━━━━━━━\u001b[0m\u001b[37m\u001b[0m \u001b[1m0s\u001b[0m 153ms/step\n",
      "Review : This movie was Fantastic! The acting was great and the plot was thrilling.\n",
      "Sentiment : Positive\n",
      "Prediction Score: 0.7581535577774048\n"
     ]
    }
   ],
   "source": [
    "# step 4: user input and prediction\n",
    "# example review for prediction\n",
    "example_review=\"This movie was Fantastic! The acting was great and the plot was thrilling.\"\n",
    "\n",
    "sentiment,score=predict_sentiment(example_review)\n",
    "print(f\"Review : {example_review}\")\n",
    "print(f\"Sentiment : {sentiment}\")\n",
    "print(f\"Prediction Score: {score}\")\n",
    "\n"
   ]
  }
 ],
 "metadata": {
  "kernelspec": {
   "display_name": "Python 3",
   "language": "python",
   "name": "python3"
  },
  "language_info": {
   "codemirror_mode": {
    "name": "ipython",
    "version": 3
   },
   "file_extension": ".py",
   "mimetype": "text/x-python",
   "name": "python",
   "nbconvert_exporter": "python",
   "pygments_lexer": "ipython3",
   "version": "3.12.6"
  }
 },
 "nbformat": 4,
 "nbformat_minor": 5
}
